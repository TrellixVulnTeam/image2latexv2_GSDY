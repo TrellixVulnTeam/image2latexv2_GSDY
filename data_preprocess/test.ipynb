{
 "cells": [
  {
   "cell_type": "code",
   "execution_count": 4,
   "metadata": {},
   "outputs": [
    {
     "name": "stdout",
     "output_type": "stream",
     "text": [
      "filenum: 131736\n"
     ]
    }
   ],
   "source": [
    "import os\n",
    "path='../data/formula_images'\n",
    "print('filenum:',len([lists for lists in os.listdir(path) if os.path.isfile(os.path.join(path, lists))]))"
   ]
  },
  {
   "cell_type": "code",
   "execution_count": 1,
   "metadata": {},
   "outputs": [
    {
     "name": "stdout",
     "output_type": "stream",
     "text": [
      "加载入文件完成...\n"
     ]
    }
   ],
   "source": [
    "import os\n",
    "import json\n",
    "cnt=4\n",
    "vocab={}\n",
    "with open('./vocab.txt') as input:\n",
    "    for i in input.readlines():\n",
    "        i=i.replace('\\n','')\n",
    "        vocab[i]=cnt\n",
    "        cnt+=1\n",
    "\n",
    "with open(\"./vocab.json\",\"w\") as f:\n",
    "     json.dump(vocab,f)\n",
    "     print(\"加载入文件完成...\")\n"
   ]
  },
  {
   "cell_type": "code",
   "execution_count": 2,
   "metadata": {},
   "outputs": [
    {
     "name": "stdout",
     "output_type": "stream",
     "text": [
      "False\n"
     ]
    }
   ],
   "source": [
    "print([1,2]==[3,4])\n"
   ]
  }
 ],
 "metadata": {
  "interpreter": {
   "hash": "31e5839dec8049714336bc3e7a22f7bb4872e1a31927b5280e292db1e2492398"
  },
  "kernelspec": {
   "display_name": "Python 3.7.11 64-bit ('jwwang': conda)",
   "language": "python",
   "name": "python3"
  },
  "language_info": {
   "codemirror_mode": {
    "name": "ipython",
    "version": 3
   },
   "file_extension": ".py",
   "mimetype": "text/x-python",
   "name": "python",
   "nbconvert_exporter": "python",
   "pygments_lexer": "ipython3",
   "version": "3.8.8"
  },
  "orig_nbformat": 4
 },
 "nbformat": 4,
 "nbformat_minor": 2
}
